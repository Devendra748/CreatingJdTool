{
 "cells": [
  {
   "cell_type": "code",
   "execution_count": 1,
   "id": "66b6053e",
   "metadata": {},
   "outputs": [],
   "source": [
    "from langchain.document_loaders import UnstructuredPDFLoader\n",
    "from langchain.indexes import VectorstoreIndexCreator\n",
    "from langchain.chains import RetrievalQA\n",
    "from langchain.llms import OpenAI\n",
    "from langchain.chat_models import ChatOpenAI\n",
    "from langchain.callbacks import get_openai_callback\n",
    "from langchain.text_splitter import CharacterTextSplitter\n",
    "from langchain.embeddings import OpenAIEmbeddings\n",
    "from langchain.vectorstores import Chroma\n",
    "from helicone.openai_proxy import openai\n",
    "from langchain.llms import AzureOpenAI\n",
    "import os\n",
    "import pandas as pd\n"
   ]
  },
  {
   "cell_type": "code",
   "execution_count": 2,
   "id": "7735751f",
   "metadata": {},
   "outputs": [],
   "source": [
    "from langchain.llms import OpenAI\n",
    "from langchain.chains.summarize import load_summarize_chain\n",
    "from langchain.text_splitter import RecursiveCharacterTextSplitter\n",
    "\n"
   ]
  },
  {
   "cell_type": "code",
   "execution_count": 3,
   "id": "90d3c5c3",
   "metadata": {},
   "outputs": [],
   "source": [
    "import openai\n",
    "os.environ[\"LANGCHAIN_TRACING\"] = \"LANGCHAIN_TRACING\"\n",
    "os.environ[\"LANGCHAIN_SESSION\"] = \"LANGCHAIN_SESSION\"\n",
    "openai.api_type  = \"openai.api_type\"\n",
    "openai.api_version  = \"openai.api_version\"\n",
    "os.environ[\"OPENAI_API_KEY\"]  = \"OPENAI_API_KEY\"\n",
    "openai.api_base = \"openai.api_base\""
   ]
  },
  {
   "cell_type": "code",
   "execution_count": 4,
   "id": "d2643bd2",
   "metadata": {},
   "outputs": [],
   "source": [
    "from langchain.chains import RetrievalQA\n",
    "from langchain.prompts import PromptTemplate, ChatPromptTemplate, HumanMessagePromptTemplate\n",
    "from langchain.llms import OpenAI\n",
    "from langchain.output_parsers import CommaSeparatedListOutputParser\n",
    "from langchain.chat_models import ChatOpenAI\n",
    "output_parser = CommaSeparatedListOutputParser()\n",
    "format_instructions = output_parser.get_format_instructions()\n"
   ]
  },
  {
   "cell_type": "code",
   "execution_count": 5,
   "id": "6542f473",
   "metadata": {},
   "outputs": [
    {
     "name": "stderr",
     "output_type": "stream",
     "text": [
      "C:\\Users\\Hp\\anaconda3\\lib\\site-packages\\langchain\\llms\\openai.py:189: UserWarning: You are trying to use a chat model. This way of initializing it is no longer supported. Instead, please use: `from langchain.chat_models import ChatOpenAI`\n",
      "  warnings.warn(\n",
      "C:\\Users\\Hp\\anaconda3\\lib\\site-packages\\langchain\\llms\\openai.py:769: UserWarning: You are trying to use a chat model. This way of initializing it is no longer supported. Instead, please use: `from langchain.chat_models import ChatOpenAI`\n",
      "  warnings.warn(\n"
     ]
    }
   ],
   "source": [
    "llm = AzureOpenAI( temperature=0, \n",
    "    engine=\"GPT4-8k\",\n",
    "    model_name=\"gpt-4\",\n",
    "    headers={\n",
    "      \"Helicone-Auth\": \"\",\n",
    "      \"Helicone-User-Id\": \"\"\n",
    "    })"
   ]
  },
  {
   "cell_type": "code",
   "execution_count": 6,
   "id": "1111b63e",
   "metadata": {},
   "outputs": [],
   "source": [
    "job_description = \"\"\"\n",
    "We're seeking talented Junior Python Engineers to become part of our team!! Our Junior Python Developer wears multiple hats on their projects and is responsible for building and maintaining Python applications and interacting with other developers, designers, and stakeholders on their projects.\n",
    "\n",
    "You must have the skills to write a plethora of unit tests for your code to guarantee all functionality is being achieved. You will need good collaboration and communication skills as you will be spending a lot of time with experienced engineers and understanding how they do their jobs. Moreover, should have in-depth knowledge of object-relational mapping, familiarity with server-side logic, and above-average Python programming skills.\n",
    "Roles and Responsibilities\n",
    "‍\n",
    "\n",
    "Python application development, testing, and maintenance\n",
    "Working with other developers, designers, and stakeholders to satisfy project needs.\n",
    "Troubleshooting and code debugging\n",
    "Developing and maintaining code and application documentation\n",
    "Participating in code reviews and contributing to best practices for the team\n",
    "Maintaining current knowledge of emerging technologies, programming languages, and software development techniques.\n",
    "Using server-side logic to integrate user-facing aspects\n",
    "Ensuring client feature requests are being evaluated and prioritized.\n",
    "Blending data storage options together.\n",
    "Coordinating with front-end developers.\n",
    "Optimising existing databases reprogrammed to increase functionality.\n",
    "Creating digital technologies to track web traffic.\n",
    "Improve responsiveness and overall performance by developing back-end components.\n",
    "Enhance the functionality of existing systems.\n",
    "Deploy data security and protection solutions.\n",
    "‍\n",
    "Requirements and Skills\n",
    "‍\n",
    "Expertise in Python and associated frameworks such as Django and Flask.\n",
    "Comprehensive knowledge of Python's multi-process architecture and threading restrictions.\n",
    "Knowledge of server-side templating languages such as Jinja 2 and Mako.\n",
    "Understanding of integration of many data sources into a single system.\n",
    "Ability to work collaboratively on projects as well as independently when necessary.\n",
    "Quick learner with the capacity to modify approaches dependent on the situation.\n",
    "Awareness of how to test Python programs successfully.\n",
    "Excellent communication and teamwork abilities.\n",
    "Knowledge of front-end technology (like JavaScript and HTML5)\n",
    "Excellent problem-solving abilities\n",
    "Bachelor of Science in Computer Science, Engineering, or a related discipline.\n",
    "Understanding front-end technologies such as JavaScript, HTML5, and CSS3 is required.\n",
    "Knowledge of some ORM (Object Relational Mapper) libraries\n",
    "Capable of combining many data sources and databases into a single system\n",
    "User authentication and authorization knowledge are required across many systems, servers, and environments.\n",
    "\n",
    "\"\"\"\n"
   ]
  },
  {
   "cell_type": "code",
   "execution_count": 7,
   "id": "6d01b007",
   "metadata": {},
   "outputs": [],
   "source": [
    "def process_llm_response(llm_response):\n",
    "    print(llm_response['result'])\n",
    "    print('\\n\\nSources:')\n",
    "    for source in llm_response[\"source_documents\"]:\n",
    "        print(source.metadata['source'])"
   ]
  },
  {
   "cell_type": "code",
   "execution_count": 53,
   "id": "91909efb",
   "metadata": {},
   "outputs": [],
   "source": [
    "def get_string_after_colon(string):\n",
    "  \"\"\"Returns the string after the colon character in the given string.\"\"\"\n",
    "  colon_index = string.find(\":\")\n",
    "  if colon_index == -1:\n",
    "    return \"\"\n",
    "  else:\n",
    "    return string[colon_index + 1:]\n"
   ]
  },
  {
   "cell_type": "code",
   "execution_count": 9,
   "id": "d6dd6016",
   "metadata": {},
   "outputs": [],
   "source": [
    "llm = AzureOpenAI( temperature=0, \n",
    "    engine=\"GPT4-8k\",\n",
    "    model_name=\"gpt-4\",\n",
    "    headers={\n",
    "      \"Helicone-Auth\": \"\",\n",
    "      \"Helicone-User-Id\": \"\"\n",
    "    })"
   ]
  },
  {
   "cell_type": "code",
   "execution_count": 10,
   "id": "bcf8f53b",
   "metadata": {
    "scrolled": true
   },
   "outputs": [
    {
     "name": "stderr",
     "output_type": "stream",
     "text": [
      "WARNING:root:Failed to load New One session, using empty session: HTTPConnectionPool(host='localhost', port=8000): Max retries exceeded with url: /sessions?name=New%20One (Caused by NewConnectionError('<urllib3.connection.HTTPConnection object at 0x00000171A7651B10>: Failed to establish a new connection: [WinError 10061] No connection could be made because the target machine actively refused it'))\n",
      "WARNING:root:Detected likely invalid Azure API URL when proxying Helicone with proxy url http://oai.hconeai.com/v1. Removing '/v1' from the end.\n",
      "WARNING:root:Failed to persist run: HTTPConnectionPool(host='localhost', port=8000): Max retries exceeded with url: /llm-runs (Caused by NewConnectionError('<urllib3.connection.HTTPConnection object at 0x00000171A76533D0>: Failed to establish a new connection: [WinError 10061] No connection could be made because the target machine actively refused it'))\n"
     ]
    },
    {
     "name": "stdout",
     "output_type": "stream",
     "text": [
      "-\n",
      "- Python application development, testing, and maintenance\n",
      "- Expertise in Python and associated frameworks such as Django and Flask\n",
      "- Comprehensive knowledge of Python's multi-process architecture and threading restrictions\n",
      "- Knowledge of server-side templating languages such as Jinja 2 and Mako\n",
      "- Understanding of integration of many data sources into a single system\n",
      "- Ability to work collaboratively on projects as well as independently when necessary\n",
      "- Quick learner with the capacity to modify approaches dependent on the situation\n",
      "- Awareness of how to test Python programs successfully\n",
      "- Excellent communication and teamwork abilities\n",
      "- Knowledge of front-end technology (like JavaScript and HTML5)\n",
      "- Excellent problem-solving abilities\n",
      "- Bachelor of Science in Computer Science, Engineering, or a related discipline\n",
      "- Understanding front-end technologies such as JavaScript, HTML5, and CSS3\n",
      "- Knowledge of some ORM (Object Relational Mapper) libraries\n",
      "- Capable of combining many data sources and databases into a single system\n",
      "- User authentication and authorization knowledge across many systems, servers, and environments\n",
      "16\n",
      "Python application development, testing, and maintenance\n",
      "Tokens Used: 755\n",
      "\tPrompt Tokens: 549\n",
      "\tCompletion Tokens: 206\n",
      "Successful Requests: 1\n",
      "Total Cost (USD): $0.02883\n"
     ]
    }
   ],
   "source": [
    "with get_openai_callback() as cb:\n",
    "    prompt = f\"\"\"\n",
    "               You are an experienced HR recruiter, your role involves receiving a ```{job_description}``` for a specific position. \n",
    "               Your primary responsibility is to compile a list of essential requirements and skills mentioned in the job description. \n",
    "               Kindly provide the main points in the form of a string list.\n",
    "              \"\"\"\n",
    "    response = llm(prompt)\n",
    "    print(response[0])\n",
    "    print(response)\n",
    "# Split the text into separate lines based on the bullet pattern\n",
    "    lines = response.split('\\n')\n",
    "# Remove empty lines (if any)\n",
    "    lines = [line.strip() for line in lines if line.strip()]\n",
    "# Create a list by splitting each line on the numbering and discarding the numbering itself\n",
    "    expertise_list = [line.split('- ')[1] for line in lines]\n",
    "    print(len(expertise_list))\n",
    "    print(expertise_list[0])\n",
    "    print(cb)"
   ]
  },
  {
   "cell_type": "code",
   "execution_count": 11,
   "id": "f73d1c1a",
   "metadata": {},
   "outputs": [
    {
     "name": "stdout",
     "output_type": "stream",
     "text": [
      "Tokens Used: 0\n",
      "\tPrompt Tokens: 0\n",
      "\tCompletion Tokens: 0\n",
      "Successful Requests: 0\n",
      "Total Cost (USD): $0.0\n"
     ]
    }
   ],
   "source": [
    "with get_openai_callback() as cb:\n",
    "    pdf_folder_path = \"data/\"\n",
    "    loaders = [UnstructuredPDFLoader(os.path.join(pdf_folder_path, fn)) for fn in os.listdir(pdf_folder_path)]\n",
    "\n",
    "    print(cb)"
   ]
  },
  {
   "cell_type": "code",
   "execution_count": 12,
   "id": "ba856cb5",
   "metadata": {},
   "outputs": [],
   "source": [
    "text_splitter = CharacterTextSplitter(        \n",
    "    separator = \"\\n\\n\",\n",
    "    chunk_size = 1000,\n",
    "    chunk_overlap  = 200,\n",
    "    length_function = len,\n",
    ")"
   ]
  },
  {
   "cell_type": "code",
   "execution_count": 36,
   "id": "280664b0",
   "metadata": {
    "scrolled": true
   },
   "outputs": [
    {
     "name": "stderr",
     "output_type": "stream",
     "text": [
      "WARNING:root:Failed to load New One session, using empty session: HTTPConnectionPool(host='localhost', port=8000): Max retries exceeded with url: /sessions?name=New%20One (Caused by NewConnectionError('<urllib3.connection.HTTPConnection object at 0x00000171B2131480>: Failed to establish a new connection: [WinError 10061] No connection could be made because the target machine actively refused it'))\n",
      "WARNING:root:Detected likely invalid Azure API URL when proxying Helicone with proxy url http://oai.hconeai.com/v1. Removing '/v1' from the end.\n",
      "WARNING:root:Failed to persist run: HTTPConnectionPool(host='localhost', port=8000): Max retries exceeded with url: /llm-runs (Caused by NewConnectionError('<urllib3.connection.HTTPConnection object at 0x00000171B2154310>: Failed to establish a new connection: [WinError 10061] No connection could be made because the target machine actively refused it'))\n"
     ]
    },
    {
     "name": "stdout",
     "output_type": "stream",
     "text": [
      "Tokens Used: 1630\n",
      "\tPrompt Tokens: 1288\n",
      "\tCompletion Tokens: 342\n",
      "Successful Requests: 1\n",
      "Total Cost (USD): $0.059160000000000004\n"
     ]
    },
    {
     "name": "stderr",
     "output_type": "stream",
     "text": [
      "WARNING:root:Failed to load New One session, using empty session: HTTPConnectionPool(host='localhost', port=8000): Max retries exceeded with url: /sessions?name=New%20One (Caused by NewConnectionError('<urllib3.connection.HTTPConnection object at 0x00000171B2130A00>: Failed to establish a new connection: [WinError 10061] No connection could be made because the target machine actively refused it'))\n",
      "WARNING:root:Detected likely invalid Azure API URL when proxying Helicone with proxy url http://oai.hconeai.com/v1. Removing '/v1' from the end.\n",
      "WARNING:root:Failed to persist run: HTTPConnectionPool(host='localhost', port=8000): Max retries exceeded with url: /llm-runs (Caused by NewConnectionError('<urllib3.connection.HTTPConnection object at 0x00000171B1065090>: Failed to establish a new connection: [WinError 10061] No connection could be made because the target machine actively refused it'))\n"
     ]
    },
    {
     "name": "stdout",
     "output_type": "stream",
     "text": [
      "Tokens Used: 1594\n",
      "\tPrompt Tokens: 1215\n",
      "\tCompletion Tokens: 379\n",
      "Successful Requests: 1\n",
      "Total Cost (USD): $0.059190000000000006\n"
     ]
    },
    {
     "name": "stderr",
     "output_type": "stream",
     "text": [
      "WARNING:root:Failed to load New One session, using empty session: HTTPConnectionPool(host='localhost', port=8000): Max retries exceeded with url: /sessions?name=New%20One (Caused by NewConnectionError('<urllib3.connection.HTTPConnection object at 0x00000171B214F910>: Failed to establish a new connection: [WinError 10061] No connection could be made because the target machine actively refused it'))\n",
      "WARNING:root:Detected likely invalid Azure API URL when proxying Helicone with proxy url http://oai.hconeai.com/v1. Removing '/v1' from the end.\n",
      "WARNING:root:Failed to persist run: HTTPConnectionPool(host='localhost', port=8000): Max retries exceeded with url: /llm-runs (Caused by NewConnectionError('<urllib3.connection.HTTPConnection object at 0x00000171B214F610>: Failed to establish a new connection: [WinError 10061] No connection could be made because the target machine actively refused it'))\n"
     ]
    },
    {
     "name": "stdout",
     "output_type": "stream",
     "text": [
      "Tokens Used: 1653\n",
      "\tPrompt Tokens: 1277\n",
      "\tCompletion Tokens: 376\n",
      "Successful Requests: 1\n",
      "Total Cost (USD): $0.060869999999999994\n"
     ]
    },
    {
     "name": "stderr",
     "output_type": "stream",
     "text": [
      "WARNING:root:Failed to load New One session, using empty session: HTTPConnectionPool(host='localhost', port=8000): Max retries exceeded with url: /sessions?name=New%20One (Caused by NewConnectionError('<urllib3.connection.HTTPConnection object at 0x00000171B2190280>: Failed to establish a new connection: [WinError 10061] No connection could be made because the target machine actively refused it'))\n",
      "WARNING:root:Detected likely invalid Azure API URL when proxying Helicone with proxy url http://oai.hconeai.com/v1. Removing '/v1' from the end.\n",
      "WARNING:root:Failed to persist run: HTTPConnectionPool(host='localhost', port=8000): Max retries exceeded with url: /llm-runs (Caused by NewConnectionError('<urllib3.connection.HTTPConnection object at 0x00000171B230DFC0>: Failed to establish a new connection: [WinError 10061] No connection could be made because the target machine actively refused it'))\n"
     ]
    },
    {
     "name": "stdout",
     "output_type": "stream",
     "text": [
      "Tokens Used: 1608\n",
      "\tPrompt Tokens: 1299\n",
      "\tCompletion Tokens: 309\n",
      "Successful Requests: 1\n",
      "Total Cost (USD): $0.05750999999999999\n"
     ]
    }
   ],
   "source": [
    "persist_directory = 'db'\n",
    "import ast\n",
    "import pandas as pd\n",
    "convert_string_into_list_array=[]\n",
    "for document in loaders:\n",
    "    data = document.load()\n",
    "    texts = text_splitter.split_documents(data)\n",
    "    with get_openai_callback() as cb:\n",
    "        query = f'''\n",
    "             Your task is to extract answer from ```{texts}```.\n",
    "             Question : Can you give me the answer What is the Name of Candidate,their Gender(if gender is present then give gender as Male/Female otherwise pridict the gender as per the name) and their address/location give this one by one in list?\n",
    "                        Can you provide me with the answer whether the candidate possesses each of the skills mentioned in the list ```{expertise_list}```?\n",
    "              \n",
    "             Example: ['Ramkrishan Pal', 'Male/Female','Bhapal,Mandideep', \"```{expertise_list[0]}``` : Yes(add a small comment with it if the skill is present)/No(add a small comment with it if the skill is present)\", 'Skill Matched Percentage :50%', ```{data[0].metadata['source']}``` ]\n",
    "             Please provide the answers in the form of 'Yes' (with a small comment if the skill is present) or 'No' (if the candidate does not have the skill). Check each candidate one by one, and proceed to the next candidate thereafter. The responses should be presented in the form of a list of strings. I want answer in list only.\n",
    "             '''\n",
    "        llm_response = llm(query)\n",
    "        convert_string_into_list=ast.literal_eval(llm_response)\n",
    "        convert_string_into_list_array.append(convert_string_into_list)\n",
    "        print(cb)\n",
    "\n"
   ]
  },
  {
   "cell_type": "code",
   "execution_count": 50,
   "id": "0953f851",
   "metadata": {},
   "outputs": [
    {
     "name": "stdout",
     "output_type": "stream",
     "text": [
      "Jane Doe\n",
      "Male\n",
      "Plot no. 122 Udaypur, UP\n",
      "Python application development, testing, and maintenance : No\n",
      "Expertise in Python and associated frameworks such as Django and Flask : No\n",
      "Comprehensive knowledge of Python's multi-process architecture and threading restrictions : No\n",
      "Knowledge of server-side templating languages such as Jinja 2 and Mako : No\n",
      "Understanding of integration of many data sources into a single system : No\n",
      "Ability to work collaboratively on projects as well as independently when necessary : Yes (Excellent Teamwork and Collaboration)\n",
      "Quick learner with the capacity to modify approaches dependent on the situation : Yes (Demonstrated ability to learn new technologies quickly and adapt to changing project requirements)\n",
      "Awareness of how to test Python programs successfully : No\n",
      "Excellent communication and teamwork abilities : Yes (Strong Written and Verbal Communication)\n",
      "Knowledge of front-end technology (like JavaScript and HTML5) : Yes (HTML5, CSS3, and JavaScript)\n",
      "Excellent problem-solving abilities : Yes (Problem-solving Abilities)\n",
      "Bachelor of Science in Computer Science, Engineering, or a related discipline : Yes (Bachelor of Science in Computer Science)\n",
      "Understanding front-end technologies such as JavaScript, HTML5, and CSS3 : Yes (HTML5, CSS3, and JavaScript)\n",
      "Knowledge of some ORM (Object Relational Mapper) libraries : Yes (Hibernate ORM)\n",
      "Capable of combining many data sources and databases into a single system : No\n",
      "User authentication and authorization knowledge across many systems, servers, and environments : No\n",
      "Skill Matched Percentage : 47%\n",
      "Path: data/JaneDoeResume.pdf\n",
      "John Smith\n",
      "Male\n",
      "125 Main Street, Bhopal, MP\n",
      "Python application development, testing, and maintenance : Yes (Junior Python Engineer)\n",
      "Expertise in Python and associated frameworks such as Django and Flask : Yes (Utilized Python expertise and frameworks (Django, Flask) to develop robust server-side logic)\n",
      "Comprehensive knowledge of Python's multi-process architecture and threading restrictions : No\n",
      "Knowledge of server-side templating languages such as Jinja 2 and Mako : No\n",
      "Understanding of integration of many data sources into a single system : Yes (Combined data sources and databases using object-relational mapping (ORM) libraries)\n",
      "Ability to work collaboratively on projects as well as independently when necessary : Yes (Teamwork and Collaboration)\n",
      "Quick learner with the capacity to modify approaches dependent on the situation : Yes (Quick Learner)\n",
      "Awareness of how to test Python programs successfully : Yes (Python Program Testing)\n",
      "Excellent communication and teamwork abilities : Yes (Teamwork and Collaboration)\n",
      "Knowledge of front-end technology (like JavaScript and HTML5) : Yes (JavaScript and HTML5)\n",
      "Excellent problem-solving abilities : Yes (Problem-solving Abilities)\n",
      "Bachelor of Science in Computer Science, Engineering, or a related discipline : Yes (Bachelor of Science in Computer Science)\n",
      "Understanding front-end technologies such as JavaScript, HTML5, and CSS3 : Yes (JavaScript, HTML5, and CSS3)\n",
      "Knowledge of some ORM (Object Relational Mapper) libraries : Yes (ORM Libraries)\n",
      "Capable of combining many data sources and databases into a single system : Yes (Data Sources and Databases Combining)\n",
      "User authentication and authorization knowledge across many systems, servers, and environments : Yes (User Authentication and Authorization Knowledge)\n",
      "Skill Matched Percentage : 73.33%\n",
      "Path: data/JohnSmithResume.pdf\n",
      "Raspreet Singh Pasrija\n",
      "Male\n",
      "Than Khamharia, Bemetara, Chhattisgarh - 491338\n",
      "Python application development, testing, and maintenance: No\n",
      "Expertise in Python and associated frameworks such as Django and Flask: No (Familiar with Python and Django)\n",
      "Comprehensive knowledge of Python's multi-process architecture and threading restrictions: No\n",
      "Knowledge of server-side templating languages such as Jinja 2 and Mako: No\n",
      "Understanding of integration of many data sources into a single system: No\n",
      "Ability to work collaboratively on projects as well as independently when necessary: Yes (Worked as a Software Engineer Intern and SDE Trainee)\n",
      "Quick learner with the capacity to modify approaches dependent on the situation: Yes (Learned and explored various technologies during internships)\n",
      "Awareness of how to test Python programs successfully: No\n",
      "Excellent communication and teamwork abilities: Yes (Worked in teams during internships)\n",
      "Knowledge of front-end technology (like JavaScript and HTML5): Yes (Skills include HTML, JavaScript, and ReactJs)\n",
      "Excellent problem-solving abilities: No\n",
      "Bachelor of Science in Computer Science, Engineering, or a related discipline: Yes (Bachelor of Engineering in CSE)\n",
      "Understanding front-end technologies such as JavaScript, HTML5, and CSS3: Yes (Skills include HTML, JavaScript, CSS, and ReactJs)\n",
      "Knowledge of some ORM (Object Relational Mapper) libraries: No\n",
      "Capable of combining many data sources and databases into a single system: No\n",
      "User authentication and authorization knowledge across many systems, servers, and environments: No\n",
      "Skill Matched Percentage: 33%\n",
      "Path: data/Raspreet_Singh_Pasrija_Resume_E7D708CA20.pdf\n",
      "Vijay Koppadi\n",
      "Male\n",
      "Hyderabad, India\n",
      "Python application development, testing, and maintenance: Yes (Python mentioned)\n",
      "Expertise in Python and associated frameworks such as Django and Flask: No\n",
      "Comprehensive knowledge of Python's multi-process architecture and threading restrictions: No\n",
      "Knowledge of server-side templating languages such as Jinja 2 and Mako: No\n",
      "Understanding of integration of many data sources into a single system: No\n",
      "Ability to work collaboratively on projects as well as independently when necessary: No\n",
      "Quick learner with the capacity to modify approaches dependent on the situation: No\n",
      "Awareness of how to test Python programs successfully: No\n",
      "Excellent communication and teamwork abilities: No\n",
      "Knowledge of front-end technology (like JavaScript and HTML5): Yes (HTML5 and JavaScript mentioned)\n",
      "Excellent problem-solving abilities: No\n",
      "Bachelor of Science in Computer Science, Engineering, or a related discipline: Yes (Bachelor in Engineering)\n",
      "Understanding front-end technologies such as JavaScript, HTML5, and CSS3: Yes (HTML5, CSS3, and JavaScript mentioned)\n",
      "Knowledge of some ORM (Object Relational Mapper) libraries: No\n",
      "Capable of combining many data sources and databases into a single system: No\n",
      "User authentication and authorization knowledge across many systems, servers, and environments: No\n",
      "Skill Matched Percentage: 25%\n",
      "Path: data/vijay's_Resume_A2F18103E1.pdf\n"
     ]
    }
   ],
   "source": [
    "for detail in convert_string_into_list_array:\n",
    "    print(detail[0])\n",
    "    print(detail[1])\n",
    "    print(detail[2])\n",
    "    print(detail[3])\n",
    "    print(detail[4])\n",
    "    print(detail[5])\n",
    "    print(detail[6])\n",
    "    print(detail[7])\n",
    "    print(detail[8])\n",
    "    print(detail[9])\n",
    "    print(detail[10])\n",
    "    print(detail[11])\n",
    "    print(detail[12])\n",
    "    print(detail[13])\n",
    "    print(detail[14])\n",
    "    print(detail[15])\n",
    "    print(detail[16])\n",
    "    print(detail[17])\n",
    "    print(detail[18])\n",
    "    print(detail[19])\n",
    "    print(detail[20])\n"
   ]
  },
  {
   "cell_type": "code",
   "execution_count": 37,
   "id": "36d1b593",
   "metadata": {},
   "outputs": [
    {
     "data": {
      "text/html": [
       "<div>\n",
       "<style scoped>\n",
       "    .dataframe tbody tr th:only-of-type {\n",
       "        vertical-align: middle;\n",
       "    }\n",
       "\n",
       "    .dataframe tbody tr th {\n",
       "        vertical-align: top;\n",
       "    }\n",
       "\n",
       "    .dataframe thead th {\n",
       "        text-align: right;\n",
       "    }\n",
       "</style>\n",
       "<table border=\"1\" class=\"dataframe\">\n",
       "  <thead>\n",
       "    <tr style=\"text-align: right;\">\n",
       "      <th></th>\n",
       "      <th>Name</th>\n",
       "      <th>Gender</th>\n",
       "      <th>Location</th>\n",
       "      <th>Percentage</th>\n",
       "      <th>Path</th>\n",
       "      <th>Python application development, testing, and maintenance</th>\n",
       "      <th>Expertise in Python and associated frameworks such as Django and Flask</th>\n",
       "      <th>Comprehensive knowledge of Python's multi-process architecture and threading restrictions</th>\n",
       "      <th>Knowledge of server-side templating languages such as Jinja 2 and Mako</th>\n",
       "      <th>Understanding of integration of many data sources into a single system</th>\n",
       "      <th>...</th>\n",
       "      <th>Quick learner with the capacity to modify approaches dependent on the situation</th>\n",
       "      <th>Awareness of how to test Python programs successfully</th>\n",
       "      <th>Excellent communication and teamwork abilities</th>\n",
       "      <th>Knowledge of front-end technology (like JavaScript and HTML5)</th>\n",
       "      <th>Excellent problem-solving abilities</th>\n",
       "      <th>Bachelor of Science in Computer Science, Engineering, or a related discipline</th>\n",
       "      <th>Understanding front-end technologies such as JavaScript, HTML5, and CSS3</th>\n",
       "      <th>Knowledge of some ORM (Object Relational Mapper) libraries</th>\n",
       "      <th>Capable of combining many data sources and databases into a single system</th>\n",
       "      <th>User authentication and authorization knowledge across many systems, servers, and environments</th>\n",
       "    </tr>\n",
       "  </thead>\n",
       "  <tbody>\n",
       "    <tr>\n",
       "      <th>0</th>\n",
       "      <td>Jane Doe</td>\n",
       "      <td>Male</td>\n",
       "      <td>Plot no. 122 Udaypur, UP</td>\n",
       "      <td>47%</td>\n",
       "      <td>Path: data/JaneDoeResume.pdf</td>\n",
       "      <td>No</td>\n",
       "      <td>No</td>\n",
       "      <td>No</td>\n",
       "      <td>No</td>\n",
       "      <td>No</td>\n",
       "      <td>...</td>\n",
       "      <td>Yes (Demonstrated ability to learn new technol...</td>\n",
       "      <td>No</td>\n",
       "      <td>Yes (Strong Written and Verbal Communication)</td>\n",
       "      <td>Yes (HTML5, CSS3, and JavaScript)</td>\n",
       "      <td>Yes (Problem-solving Abilities)</td>\n",
       "      <td>Yes (Bachelor of Science in Computer Science)</td>\n",
       "      <td>Yes (HTML5, CSS3, and JavaScript)</td>\n",
       "      <td>Yes (Hibernate ORM)</td>\n",
       "      <td>No</td>\n",
       "      <td>No</td>\n",
       "    </tr>\n",
       "    <tr>\n",
       "      <th>1</th>\n",
       "      <td>John Smith</td>\n",
       "      <td>Male</td>\n",
       "      <td>125 Main Street, Bhopal, MP</td>\n",
       "      <td>73.33%</td>\n",
       "      <td>Path: data/JohnSmithResume.pdf</td>\n",
       "      <td>Yes (Junior Python Engineer)</td>\n",
       "      <td>Yes (Utilized Python expertise and frameworks ...</td>\n",
       "      <td>No</td>\n",
       "      <td>No</td>\n",
       "      <td>Yes (Combined data sources and databases using...</td>\n",
       "      <td>...</td>\n",
       "      <td>Yes (Quick Learner)</td>\n",
       "      <td>Yes (Python Program Testing)</td>\n",
       "      <td>Yes (Teamwork and Collaboration)</td>\n",
       "      <td>Yes (JavaScript and HTML5)</td>\n",
       "      <td>Yes (Problem-solving Abilities)</td>\n",
       "      <td>Yes (Bachelor of Science in Computer Science)</td>\n",
       "      <td>Yes (JavaScript, HTML5, and CSS3)</td>\n",
       "      <td>Yes (ORM Libraries)</td>\n",
       "      <td>Yes (Data Sources and Databases Combining)</td>\n",
       "      <td>Yes (User Authentication and Authorization Kno...</td>\n",
       "    </tr>\n",
       "    <tr>\n",
       "      <th>2</th>\n",
       "      <td>Raspreet Singh Pasrija</td>\n",
       "      <td>Male</td>\n",
       "      <td>Than Khamharia, Bemetara, Chhattisgarh - 491338</td>\n",
       "      <td>33%</td>\n",
       "      <td>Path: data/Raspreet_Singh_Pasrija_Resume_E7D70...</td>\n",
       "      <td>No</td>\n",
       "      <td>No (Familiar with Python and Django)</td>\n",
       "      <td>No</td>\n",
       "      <td>No</td>\n",
       "      <td>No</td>\n",
       "      <td>...</td>\n",
       "      <td>Yes (Learned and explored various technologies...</td>\n",
       "      <td>No</td>\n",
       "      <td>Yes (Worked in teams during internships)</td>\n",
       "      <td>Yes (Skills include HTML, JavaScript, and Reac...</td>\n",
       "      <td>No</td>\n",
       "      <td>Yes (Bachelor of Engineering in CSE)</td>\n",
       "      <td>Yes (Skills include HTML, JavaScript, CSS, and...</td>\n",
       "      <td>No</td>\n",
       "      <td>No</td>\n",
       "      <td>No</td>\n",
       "    </tr>\n",
       "    <tr>\n",
       "      <th>3</th>\n",
       "      <td>Vijay Koppadi</td>\n",
       "      <td>Male</td>\n",
       "      <td>Hyderabad, India</td>\n",
       "      <td>25%</td>\n",
       "      <td>Path: data/vijay's_Resume_A2F18103E1.pdf</td>\n",
       "      <td>Yes (Python mentioned)</td>\n",
       "      <td>No</td>\n",
       "      <td>No</td>\n",
       "      <td>No</td>\n",
       "      <td>No</td>\n",
       "      <td>...</td>\n",
       "      <td>No</td>\n",
       "      <td>No</td>\n",
       "      <td>No</td>\n",
       "      <td>Yes (HTML5 and JavaScript mentioned)</td>\n",
       "      <td>No</td>\n",
       "      <td>Yes (Bachelor in Engineering)</td>\n",
       "      <td>Yes (HTML5, CSS3, and JavaScript mentioned)</td>\n",
       "      <td>No</td>\n",
       "      <td>No</td>\n",
       "      <td>No</td>\n",
       "    </tr>\n",
       "  </tbody>\n",
       "</table>\n",
       "<p>4 rows × 21 columns</p>\n",
       "</div>"
      ],
      "text/plain": [
       "                     Name Gender  \\\n",
       "0                Jane Doe   Male   \n",
       "1              John Smith   Male   \n",
       "2  Raspreet Singh Pasrija   Male   \n",
       "3           Vijay Koppadi   Male   \n",
       "\n",
       "                                          Location Percentage  \\\n",
       "0                         Plot no. 122 Udaypur, UP        47%   \n",
       "1                      125 Main Street, Bhopal, MP     73.33%   \n",
       "2  Than Khamharia, Bemetara, Chhattisgarh - 491338        33%   \n",
       "3                                 Hyderabad, India        25%   \n",
       "\n",
       "                                                Path  \\\n",
       "0                       Path: data/JaneDoeResume.pdf   \n",
       "1                     Path: data/JohnSmithResume.pdf   \n",
       "2  Path: data/Raspreet_Singh_Pasrija_Resume_E7D70...   \n",
       "3           Path: data/vijay's_Resume_A2F18103E1.pdf   \n",
       "\n",
       "  Python application development, testing, and maintenance  \\\n",
       "0                                                 No         \n",
       "1                       Yes (Junior Python Engineer)         \n",
       "2                                                 No         \n",
       "3                             Yes (Python mentioned)         \n",
       "\n",
       "  Expertise in Python and associated frameworks such as Django and Flask  \\\n",
       "0                                                 No                       \n",
       "1  Yes (Utilized Python expertise and frameworks ...                       \n",
       "2               No (Familiar with Python and Django)                       \n",
       "3                                                 No                       \n",
       "\n",
       "  Comprehensive knowledge of Python's multi-process architecture and threading restrictions  \\\n",
       "0                                                 No                                          \n",
       "1                                                 No                                          \n",
       "2                                                 No                                          \n",
       "3                                                 No                                          \n",
       "\n",
       "  Knowledge of server-side templating languages such as Jinja 2 and Mako  \\\n",
       "0                                                 No                       \n",
       "1                                                 No                       \n",
       "2                                                 No                       \n",
       "3                                                 No                       \n",
       "\n",
       "  Understanding of integration of many data sources into a single system  ...  \\\n",
       "0                                                 No                      ...   \n",
       "1  Yes (Combined data sources and databases using...                      ...   \n",
       "2                                                 No                      ...   \n",
       "3                                                 No                      ...   \n",
       "\n",
       "  Quick learner with the capacity to modify approaches dependent on the situation  \\\n",
       "0  Yes (Demonstrated ability to learn new technol...                                \n",
       "1                                Yes (Quick Learner)                                \n",
       "2  Yes (Learned and explored various technologies...                                \n",
       "3                                                 No                                \n",
       "\n",
       "  Awareness of how to test Python programs successfully  \\\n",
       "0                                                 No      \n",
       "1                       Yes (Python Program Testing)      \n",
       "2                                                 No      \n",
       "3                                                 No      \n",
       "\n",
       "  Excellent communication and teamwork abilities  \\\n",
       "0  Yes (Strong Written and Verbal Communication)   \n",
       "1               Yes (Teamwork and Collaboration)   \n",
       "2       Yes (Worked in teams during internships)   \n",
       "3                                             No   \n",
       "\n",
       "  Knowledge of front-end technology (like JavaScript and HTML5)  \\\n",
       "0                  Yes (HTML5, CSS3, and JavaScript)              \n",
       "1                         Yes (JavaScript and HTML5)              \n",
       "2  Yes (Skills include HTML, JavaScript, and Reac...              \n",
       "3               Yes (HTML5 and JavaScript mentioned)              \n",
       "\n",
       "  Excellent problem-solving abilities  \\\n",
       "0     Yes (Problem-solving Abilities)   \n",
       "1     Yes (Problem-solving Abilities)   \n",
       "2                                  No   \n",
       "3                                  No   \n",
       "\n",
       "  Bachelor of Science in Computer Science, Engineering, or a related discipline  \\\n",
       "0      Yes (Bachelor of Science in Computer Science)                              \n",
       "1      Yes (Bachelor of Science in Computer Science)                              \n",
       "2               Yes (Bachelor of Engineering in CSE)                              \n",
       "3                      Yes (Bachelor in Engineering)                              \n",
       "\n",
       "  Understanding front-end technologies such as JavaScript, HTML5, and CSS3  \\\n",
       "0                  Yes (HTML5, CSS3, and JavaScript)                         \n",
       "1                  Yes (JavaScript, HTML5, and CSS3)                         \n",
       "2  Yes (Skills include HTML, JavaScript, CSS, and...                         \n",
       "3        Yes (HTML5, CSS3, and JavaScript mentioned)                         \n",
       "\n",
       "  Knowledge of some ORM (Object Relational Mapper) libraries  \\\n",
       "0                                Yes (Hibernate ORM)           \n",
       "1                                Yes (ORM Libraries)           \n",
       "2                                                 No           \n",
       "3                                                 No           \n",
       "\n",
       "  Capable of combining many data sources and databases into a single system  \\\n",
       "0                                                 No                          \n",
       "1         Yes (Data Sources and Databases Combining)                          \n",
       "2                                                 No                          \n",
       "3                                                 No                          \n",
       "\n",
       "  User authentication and authorization knowledge across many systems, servers, and environments  \n",
       "0                                                 No                                              \n",
       "1  Yes (User Authentication and Authorization Kno...                                              \n",
       "2                                                 No                                              \n",
       "3                                                 No                                              \n",
       "\n",
       "[4 rows x 21 columns]"
      ]
     },
     "metadata": {},
     "output_type": "display_data"
    }
   ],
   "source": [
    "data_list = []\n",
    "for detail in convert_string_into_list_array:\n",
    "    data = {\n",
    "        \"Name\": detail[0],\n",
    "        \"Gender\": detail[1],\n",
    "        \"Location\": detail[2],\n",
    "        \"Percentage\": detail[-2].split(':')[1].strip(),\n",
    "        \"Path\": detail[-1].strip(),\n",
    "    }\n",
    "    for i, exp in enumerate(expertise_list):\n",
    "        expertise, value = detail[i + 3].split(': ')\n",
    "        data[exp] = value.strip()\n",
    "\n",
    "    data_list.append(data)\n",
    "\n",
    "# Create the pandas DataFrame\n",
    "df = pd.DataFrame(data_list)\n",
    "\n",
    "# Display the DataFrame\n",
    "display(df)"
   ]
  },
  {
   "cell_type": "code",
   "execution_count": 41,
   "id": "86d6e892",
   "metadata": {},
   "outputs": [],
   "source": [
    "from langchain.agents import create_pandas_dataframe_agent\n",
    "from langchain.chat_models import ChatOpenAI\n",
    "from langchain.agents.agent_types import AgentType"
   ]
  },
  {
   "cell_type": "code",
   "execution_count": 42,
   "id": "b5f6698d",
   "metadata": {},
   "outputs": [],
   "source": [
    "agent = create_pandas_dataframe_agent(llm, df, verbose=True)"
   ]
  },
  {
   "cell_type": "code",
   "execution_count": 46,
   "id": "a4efa8fc",
   "metadata": {},
   "outputs": [
    {
     "name": "stderr",
     "output_type": "stream",
     "text": [
      "WARNING:root:Failed to load New One session, using empty session: HTTPConnectionPool(host='localhost', port=8000): Max retries exceeded with url: /sessions?name=New%20One (Caused by NewConnectionError('<urllib3.connection.HTTPConnection object at 0x00000171AD51DE70>: Failed to establish a new connection: [WinError 10061] No connection could be made because the target machine actively refused it'))\n",
      "WARNING:root:Detected likely invalid Azure API URL when proxying Helicone with proxy url http://oai.hconeai.com/v1. Removing '/v1' from the end.\n"
     ]
    },
    {
     "name": "stdout",
     "output_type": "stream",
     "text": [
      "\n",
      "\n",
      "\u001b[1m> Entering new  chain...\u001b[0m\n"
     ]
    },
    {
     "name": "stderr",
     "output_type": "stream",
     "text": [
      "WARNING:root:Detected likely invalid Azure API URL when proxying Helicone with proxy url http://oai.hconeai.com/v1. Removing '/v1' from the end.\n"
     ]
    },
    {
     "name": "stdout",
     "output_type": "stream",
     "text": [
      "\u001b[32;1m\u001b[1;3mThought: I need to filter the dataframe to find candidates with B.E. degree and then extract their names and paths.\n",
      "Action: python_repl_ast\n",
      "Action Input: df[df['Bachelor of Science in Computer Science, Engineering, or a related discipline'].str.contains(\"B.E.\")]\u001b[0m\n",
      "Observation: \u001b[36;1m\u001b[1;3mEmpty DataFrame\n",
      "Columns: [Name, Gender, Location, Percentage, Path, Python application development, testing, and maintenance, Expertise in Python and associated frameworks such as Django and Flask, Comprehensive knowledge of Python's multi-process architecture and threading restrictions, Knowledge of server-side templating languages such as Jinja 2 and Mako, Understanding of integration of many data sources into a single system, Ability to work collaboratively on projects as well as independently when necessary, Quick learner with the capacity to modify approaches dependent on the situation, Awareness of how to test Python programs successfully, Excellent communication and teamwork abilities, Knowledge of front-end technology (like JavaScript and HTML5), Excellent problem-solving abilities, Bachelor of Science in Computer Science, Engineering, or a related discipline, Understanding front-end technologies such as JavaScript, HTML5, and CSS3, Knowledge of some ORM (Object Relational Mapper) libraries, Capable of combining many data sources and databases into a single system, User authentication and authorization knowledge across many systems, servers, and environments]\n",
      "Index: []\n",
      "\n",
      "[0 rows x 21 columns]\u001b[0m\n",
      "Thought:"
     ]
    },
    {
     "name": "stderr",
     "output_type": "stream",
     "text": [
      "WARNING:root:Detected likely invalid Azure API URL when proxying Helicone with proxy url http://oai.hconeai.com/v1. Removing '/v1' from the end.\n"
     ]
    },
    {
     "name": "stdout",
     "output_type": "stream",
     "text": [
      "\u001b[32;1m\u001b[1;3mIt seems that there are no candidates with a B.E. degree in the dataframe. I should check for other variations of the degree name, such as \"Bachelor of Engineering\".\n",
      "Action: python_repl_ast\n",
      "Action Input: df[df['Bachelor of Science in Computer Science, Engineering, or a related discipline'].str.contains(\"Bachelor of Engineering\")]\u001b[0m\n",
      "Observation: \u001b[36;1m\u001b[1;3m                     Name Gender  \\\n",
      "2  Raspreet Singh Pasrija   Male   \n",
      "\n",
      "                                          Location Percentage  \\\n",
      "2  Than Khamharia, Bemetara, Chhattisgarh - 491338        33%   \n",
      "\n",
      "                                                Path  \\\n",
      "2  Path: data/Raspreet_Singh_Pasrija_Resume_E7D70...   \n",
      "\n",
      "  Python application development, testing, and maintenance  \\\n",
      "2                                                 No         \n",
      "\n",
      "  Expertise in Python and associated frameworks such as Django and Flask  \\\n",
      "2               No (Familiar with Python and Django)                       \n",
      "\n",
      "  Comprehensive knowledge of Python's multi-process architecture and threading restrictions  \\\n",
      "2                                                 No                                          \n",
      "\n",
      "  Knowledge of server-side templating languages such as Jinja 2 and Mako  \\\n",
      "2                                                 No                       \n",
      "\n",
      "  Understanding of integration of many data sources into a single system  ...  \\\n",
      "2                                                 No                      ...   \n",
      "\n",
      "  Quick learner with the capacity to modify approaches dependent on the situation  \\\n",
      "2  Yes (Learned and explored various technologies...                                \n",
      "\n",
      "  Awareness of how to test Python programs successfully  \\\n",
      "2                                                 No      \n",
      "\n",
      "  Excellent communication and teamwork abilities  \\\n",
      "2       Yes (Worked in teams during internships)   \n",
      "\n",
      "  Knowledge of front-end technology (like JavaScript and HTML5)  \\\n",
      "2  Yes (Skills include HTML, JavaScript, and Reac...              \n",
      "\n",
      "  Excellent problem-solving abilities  \\\n",
      "2                                  No   \n",
      "\n",
      "  Bachelor of Science in Computer Science, Engineering, or a related discipline  \\\n",
      "2               Yes (Bachelor of Engineering in CSE)                              \n",
      "\n",
      "  Understanding front-end technologies such as JavaScript, HTML5, and CSS3  \\\n",
      "2  Yes (Skills include HTML, JavaScript, CSS, and...                         \n",
      "\n",
      "  Knowledge of some ORM (Object Relational Mapper) libraries  \\\n",
      "2                                                 No           \n",
      "\n",
      "  Capable of combining many data sources and databases into a single system  \\\n",
      "2                                                 No                          \n",
      "\n",
      "  User authentication and authorization knowledge across many systems, servers, and environments  \n",
      "2                                                 No                                              \n",
      "\n",
      "[1 rows x 21 columns]\u001b[0m\n",
      "Thought:"
     ]
    },
    {
     "name": "stderr",
     "output_type": "stream",
     "text": [
      "WARNING:root:Detected likely invalid Azure API URL when proxying Helicone with proxy url http://oai.hconeai.com/v1. Removing '/v1' from the end.\n"
     ]
    },
    {
     "name": "stdout",
     "output_type": "stream",
     "text": [
      "\u001b[32;1m\u001b[1;3mI found one candidate with a \"Bachelor of Engineering\" degree. I should check for other variations of the degree name, such as \"B.Eng\".\n",
      "Action: python_repl_ast\n",
      "Action Input: df[df['Bachelor of Science in Computer Science, Engineering, or a related discipline'].str.contains(\"B.Eng\")]\u001b[0m\n",
      "Observation: \u001b[36;1m\u001b[1;3mEmpty DataFrame\n",
      "Columns: [Name, Gender, Location, Percentage, Path, Python application development, testing, and maintenance, Expertise in Python and associated frameworks such as Django and Flask, Comprehensive knowledge of Python's multi-process architecture and threading restrictions, Knowledge of server-side templating languages such as Jinja 2 and Mako, Understanding of integration of many data sources into a single system, Ability to work collaboratively on projects as well as independently when necessary, Quick learner with the capacity to modify approaches dependent on the situation, Awareness of how to test Python programs successfully, Excellent communication and teamwork abilities, Knowledge of front-end technology (like JavaScript and HTML5), Excellent problem-solving abilities, Bachelor of Science in Computer Science, Engineering, or a related discipline, Understanding front-end technologies such as JavaScript, HTML5, and CSS3, Knowledge of some ORM (Object Relational Mapper) libraries, Capable of combining many data sources and databases into a single system, User authentication and authorization knowledge across many systems, servers, and environments]\n",
      "Index: []\n",
      "\n",
      "[0 rows x 21 columns]\u001b[0m\n",
      "Thought:\u001b[32;1m\u001b[1;3mI found only one candidate with a \"Bachelor of Engineering\" degree. I will provide their name and path.\n",
      "Final Answer: Raspreet Singh Pasrija, Path: data/Raspreet_Singh_Pasrija_Resume_E7D708CA20.pdf\u001b[0m\n",
      "\n",
      "\u001b[1m> Finished chain.\u001b[0m\n"
     ]
    },
    {
     "name": "stderr",
     "output_type": "stream",
     "text": [
      "WARNING:root:Failed to persist run: HTTPConnectionPool(host='localhost', port=8000): Max retries exceeded with url: /chain-runs (Caused by NewConnectionError('<urllib3.connection.HTTPConnection object at 0x00000171B3126BF0>: Failed to establish a new connection: [WinError 10061] No connection could be made because the target machine actively refused it'))\n"
     ]
    },
    {
     "data": {
      "text/plain": [
       "'Raspreet Singh Pasrija, Path: data/Raspreet_Singh_Pasrija_Resume_E7D708CA20.pdf'"
      ]
     },
     "execution_count": 46,
     "metadata": {},
     "output_type": "execute_result"
    }
   ],
   "source": [
    "agent.run(\"Identify 2 candidates with B.E. degree. Give their path also.\")"
   ]
  },
  {
   "cell_type": "code",
   "execution_count": 47,
   "id": "3b3af62a",
   "metadata": {},
   "outputs": [
    {
     "name": "stderr",
     "output_type": "stream",
     "text": [
      "WARNING:root:Failed to load New One session, using empty session: HTTPConnectionPool(host='localhost', port=8000): Max retries exceeded with url: /sessions?name=New%20One (Caused by NewConnectionError('<urllib3.connection.HTTPConnection object at 0x00000171B31BD600>: Failed to establish a new connection: [WinError 10061] No connection could be made because the target machine actively refused it'))\n",
      "WARNING:root:Detected likely invalid Azure API URL when proxying Helicone with proxy url http://oai.hconeai.com/v1. Removing '/v1' from the end.\n"
     ]
    },
    {
     "name": "stdout",
     "output_type": "stream",
     "text": [
      "\n",
      "\n",
      "\u001b[1m> Entering new  chain...\u001b[0m\n"
     ]
    },
    {
     "name": "stderr",
     "output_type": "stream",
     "text": [
      "WARNING:root:Detected likely invalid Azure API URL when proxying Helicone with proxy url http://oai.hconeai.com/v1. Removing '/v1' from the end.\n"
     ]
    },
    {
     "name": "stdout",
     "output_type": "stream",
     "text": [
      "\u001b[32;1m\u001b[1;3mThought: To find candidates with more than 2 years of experience with AWS, I need to check the dataframe for any mention of AWS experience. However, the provided dataframe does not have a column for AWS experience. I will first check the columns of the dataframe to confirm this.\n",
      "\n",
      "Action: python_repl_ast\n",
      "Action Input: list(df.columns)\u001b[0m\n",
      "Observation: \u001b[36;1m\u001b[1;3m['Name', 'Gender', 'Location', 'Percentage', 'Path', 'Python application development, testing, and maintenance', 'Expertise in Python and associated frameworks such as Django and Flask', \"Comprehensive knowledge of Python's multi-process architecture and threading restrictions\", 'Knowledge of server-side templating languages such as Jinja 2 and Mako', 'Understanding of integration of many data sources into a single system', 'Ability to work collaboratively on projects as well as independently when necessary', 'Quick learner with the capacity to modify approaches dependent on the situation', 'Awareness of how to test Python programs successfully', 'Excellent communication and teamwork abilities', 'Knowledge of front-end technology (like JavaScript and HTML5)', 'Excellent problem-solving abilities', 'Bachelor of Science in Computer Science, Engineering, or a related discipline', 'Understanding front-end technologies such as JavaScript, HTML5, and CSS3', 'Knowledge of some ORM (Object Relational Mapper) libraries', 'Capable of combining many data sources and databases into a single system', 'User authentication and authorization knowledge across many systems, servers, and environments']\u001b[0m\n",
      "Thought:\u001b[32;1m\u001b[1;3mAs I suspected, there is no column for AWS experience in the dataframe. Therefore, I cannot identify candidates with more than 2 years of experience with AWS using the provided dataframe.\n",
      "\n",
      "Final Answer: It is not possible to identify candidates with more than 2 years of experience with AWS using the provided dataframe.\u001b[0m\n",
      "\n",
      "\u001b[1m> Finished chain.\u001b[0m\n"
     ]
    },
    {
     "name": "stderr",
     "output_type": "stream",
     "text": [
      "WARNING:root:Failed to persist run: HTTPConnectionPool(host='localhost', port=8000): Max retries exceeded with url: /chain-runs (Caused by NewConnectionError('<urllib3.connection.HTTPConnection object at 0x00000171B31BC130>: Failed to establish a new connection: [WinError 10061] No connection could be made because the target machine actively refused it'))\n"
     ]
    },
    {
     "data": {
      "text/plain": [
       "'It is not possible to identify candidates with more than 2 years of experience with AWS using the provided dataframe.'"
      ]
     },
     "execution_count": 47,
     "metadata": {},
     "output_type": "execute_result"
    }
   ],
   "source": [
    "agent.run(\"Identify 2 candidates with more than 2 years of experience with AWS. Give their path also.\")"
   ]
  },
  {
   "cell_type": "code",
   "execution_count": 51,
   "id": "db9767ed",
   "metadata": {},
   "outputs": [
    {
     "name": "stderr",
     "output_type": "stream",
     "text": [
      "WARNING:root:Failed to load New One session, using empty session: HTTPConnectionPool(host='localhost', port=8000): Max retries exceeded with url: /sessions?name=New%20One (Caused by NewConnectionError('<urllib3.connection.HTTPConnection object at 0x00000171B30E3C40>: Failed to establish a new connection: [WinError 10061] No connection could be made because the target machine actively refused it'))\n",
      "WARNING:root:Detected likely invalid Azure API URL when proxying Helicone with proxy url http://oai.hconeai.com/v1. Removing '/v1' from the end.\n"
     ]
    },
    {
     "name": "stdout",
     "output_type": "stream",
     "text": [
      "\n",
      "\n",
      "\u001b[1m> Entering new  chain...\u001b[0m\n"
     ]
    },
    {
     "name": "stderr",
     "output_type": "stream",
     "text": [
      "WARNING:root:Detected likely invalid Azure API URL when proxying Helicone with proxy url http://oai.hconeai.com/v1. Removing '/v1' from the end.\n"
     ]
    },
    {
     "name": "stdout",
     "output_type": "stream",
     "text": [
      "\u001b[32;1m\u001b[1;3mThought: I need to filter the dataframe to get the rows where the Location contains \"MP\" and then get the Name and Path columns for those rows.\n",
      "\n",
      "Action: python_repl_ast\n",
      "Action Input: df[df['Location'].str.contains(\"MP\")][['Name', 'Path']]\u001b[0m\n",
      "Observation: \u001b[36;1m\u001b[1;3m         Name                            Path\n",
      "1  John Smith  Path: data/JohnSmithResume.pdf\u001b[0m\n",
      "Thought:\u001b[32;1m\u001b[1;3mI now know the final answer.\n",
      "Final Answer: The candidate who lives in M.P. is John Smith, and their resume path is \"Path: data/JohnSmithResume.pdf\".\u001b[0m\n",
      "\n",
      "\u001b[1m> Finished chain.\u001b[0m\n"
     ]
    },
    {
     "name": "stderr",
     "output_type": "stream",
     "text": [
      "WARNING:root:Failed to persist run: HTTPConnectionPool(host='localhost', port=8000): Max retries exceeded with url: /chain-runs (Caused by NewConnectionError('<urllib3.connection.HTTPConnection object at 0x00000171B31BF760>: Failed to establish a new connection: [WinError 10061] No connection could be made because the target machine actively refused it'))\n"
     ]
    },
    {
     "data": {
      "text/plain": [
       "'The candidate who lives in M.P. is John Smith, and their resume path is \"Path: data/JohnSmithResume.pdf\".'"
      ]
     },
     "execution_count": 51,
     "metadata": {},
     "output_type": "execute_result"
    }
   ],
   "source": [
    "agent.run(\"Identify candidates those lived in M.P. Give their path also.\")"
   ]
  },
  {
   "cell_type": "code",
   "execution_count": 52,
   "id": "c943d4f7",
   "metadata": {},
   "outputs": [
    {
     "name": "stderr",
     "output_type": "stream",
     "text": [
      "WARNING:root:Failed to load New One session, using empty session: HTTPConnectionPool(host='localhost', port=8000): Max retries exceeded with url: /sessions?name=New%20One (Caused by NewConnectionError('<urllib3.connection.HTTPConnection object at 0x00000171B31BF5E0>: Failed to establish a new connection: [WinError 10061] No connection could be made because the target machine actively refused it'))\n",
      "WARNING:root:Detected likely invalid Azure API URL when proxying Helicone with proxy url http://oai.hconeai.com/v1. Removing '/v1' from the end.\n"
     ]
    },
    {
     "name": "stdout",
     "output_type": "stream",
     "text": [
      "\n",
      "\n",
      "\u001b[1m> Entering new  chain...\u001b[0m\n"
     ]
    },
    {
     "name": "stderr",
     "output_type": "stream",
     "text": [
      "WARNING:root:Detected likely invalid Azure API URL when proxying Helicone with proxy url http://oai.hconeai.com/v1. Removing '/v1' from the end.\n"
     ]
    },
    {
     "name": "stdout",
     "output_type": "stream",
     "text": [
      "\u001b[32;1m\u001b[1;3mThought: To find the candidates with the highest match percentage, I need to sort the dataframe by the 'Percentage' column in descending order and then select the top 2 candidates.\n",
      "Action: python_repl_ast\n",
      "Action Input: df.sort_values(by='Percentage', ascending=False).head(2)\u001b[0m\n",
      "Observation: \u001b[36;1m\u001b[1;3m         Name Gender                     Location Percentage  \\\n",
      "1  John Smith   Male  125 Main Street, Bhopal, MP     73.33%   \n",
      "0    Jane Doe   Male     Plot no. 122 Udaypur, UP        47%   \n",
      "\n",
      "                             Path  \\\n",
      "1  Path: data/JohnSmithResume.pdf   \n",
      "0    Path: data/JaneDoeResume.pdf   \n",
      "\n",
      "  Python application development, testing, and maintenance  \\\n",
      "1                       Yes (Junior Python Engineer)         \n",
      "0                                                 No         \n",
      "\n",
      "  Expertise in Python and associated frameworks such as Django and Flask  \\\n",
      "1  Yes (Utilized Python expertise and frameworks ...                       \n",
      "0                                                 No                       \n",
      "\n",
      "  Comprehensive knowledge of Python's multi-process architecture and threading restrictions  \\\n",
      "1                                                 No                                          \n",
      "0                                                 No                                          \n",
      "\n",
      "  Knowledge of server-side templating languages such as Jinja 2 and Mako  \\\n",
      "1                                                 No                       \n",
      "0                                                 No                       \n",
      "\n",
      "  Understanding of integration of many data sources into a single system  ...  \\\n",
      "1  Yes (Combined data sources and databases using...                      ...   \n",
      "0                                                 No                      ...   \n",
      "\n",
      "  Quick learner with the capacity to modify approaches dependent on the situation  \\\n",
      "1                                Yes (Quick Learner)                                \n",
      "0  Yes (Demonstrated ability to learn new technol...                                \n",
      "\n",
      "  Awareness of how to test Python programs successfully  \\\n",
      "1                       Yes (Python Program Testing)      \n",
      "0                                                 No      \n",
      "\n",
      "  Excellent communication and teamwork abilities  \\\n",
      "1               Yes (Teamwork and Collaboration)   \n",
      "0  Yes (Strong Written and Verbal Communication)   \n",
      "\n",
      "  Knowledge of front-end technology (like JavaScript and HTML5)  \\\n",
      "1                         Yes (JavaScript and HTML5)              \n",
      "0                  Yes (HTML5, CSS3, and JavaScript)              \n",
      "\n",
      "  Excellent problem-solving abilities  \\\n",
      "1     Yes (Problem-solving Abilities)   \n",
      "0     Yes (Problem-solving Abilities)   \n",
      "\n",
      "  Bachelor of Science in Computer Science, Engineering, or a related discipline  \\\n",
      "1      Yes (Bachelor of Science in Computer Science)                              \n",
      "0      Yes (Bachelor of Science in Computer Science)                              \n",
      "\n",
      "  Understanding front-end technologies such as JavaScript, HTML5, and CSS3  \\\n",
      "1                  Yes (JavaScript, HTML5, and CSS3)                         \n",
      "0                  Yes (HTML5, CSS3, and JavaScript)                         \n",
      "\n",
      "  Knowledge of some ORM (Object Relational Mapper) libraries  \\\n",
      "1                                Yes (ORM Libraries)           \n",
      "0                                Yes (Hibernate ORM)           \n",
      "\n",
      "  Capable of combining many data sources and databases into a single system  \\\n",
      "1         Yes (Data Sources and Databases Combining)                          \n",
      "0                                                 No                          \n",
      "\n",
      "  User authentication and authorization knowledge across many systems, servers, and environments  \n",
      "1  Yes (User Authentication and Authorization Kno...                                              \n",
      "0                                                 No                                              \n",
      "\n",
      "[2 rows x 21 columns]\u001b[0m\n",
      "Thought:\u001b[32;1m\u001b[1;3mI now know the top 2 candidates with the highest match percentage and their resume paths.\n",
      "Final Answer: The top 2 candidates are John Smith and Jane Doe. Their resume paths are \"data/JohnSmithResume.pdf\" and \"data/JaneDoeResume.pdf\" respectively.\u001b[0m\n",
      "\n",
      "\u001b[1m> Finished chain.\u001b[0m\n"
     ]
    },
    {
     "name": "stderr",
     "output_type": "stream",
     "text": [
      "WARNING:root:Failed to persist run: HTTPConnectionPool(host='localhost', port=8000): Max retries exceeded with url: /chain-runs (Caused by NewConnectionError('<urllib3.connection.HTTPConnection object at 0x00000171B3127FD0>: Failed to establish a new connection: [WinError 10061] No connection could be made because the target machine actively refused it'))\n"
     ]
    },
    {
     "name": "stdout",
     "output_type": "stream",
     "text": [
      "Tokens Used: 3170\n",
      "\tPrompt Tokens: 3053\n",
      "\tCompletion Tokens: 117\n",
      "Successful Requests: 2\n",
      "Total Cost (USD): $0.09861\n"
     ]
    }
   ],
   "source": [
    "with get_openai_callback() as cb:\n",
    "    agent.run(\"Identify 2 candidates their resume higly Matched with job requirments. Give their path also.\")\n",
    "    print(cb)"
   ]
  },
  {
   "cell_type": "code",
   "execution_count": null,
   "id": "30d2810a",
   "metadata": {},
   "outputs": [],
   "source": []
  }
 ],
 "metadata": {
  "kernelspec": {
   "display_name": "Python 3 (ipykernel)",
   "language": "python",
   "name": "python3"
  },
  "language_info": {
   "codemirror_mode": {
    "name": "ipython",
    "version": 3
   },
   "file_extension": ".py",
   "mimetype": "text/x-python",
   "name": "python",
   "nbconvert_exporter": "python",
   "pygments_lexer": "ipython3",
   "version": "3.10.9"
  }
 },
 "nbformat": 4,
 "nbformat_minor": 5
}
